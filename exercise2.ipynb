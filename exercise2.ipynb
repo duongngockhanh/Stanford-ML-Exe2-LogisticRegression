{
 "cells": [
  {
   "cell_type": "markdown",
   "metadata": {},
   "source": [
    "# Programming Exercise 2: Logistic Regression\n",
    "\n",
    "## Introduction\n",
    "\n",
    "Trong bài tập này, bạn sẽ thực hiện hồi quy logistic và áp dụng nó cho hai tập dữ liệu khác nhau. Trước khi bắt đầu bài tập lập trình, chúng tôi đặc biệt khuyên bạn nên xem video bài giảng và hoàn thành các câu hỏi ôn tập cho các chủ đề liên quan.\n",
    "\n",
    "Tất cả thông tin bạn cần để giải bài tập này đều có trong sổ ghi chép này và tất cả mã bạn sẽ thực hiện sẽ diễn ra trong sổ ghi chép này. Bài tập có thể được nộp ngay cho học viên chấm khóa học trực tiếp từ sổ ghi chép này (mã và hướng dẫn được bao gồm bên dưới).\n",
    "\n",
    "Before we begin with the exercises, we need to import all libraries required for this programming exercise. Throughout the course, we will be using [`numpy`](http://www.numpy.org/) for all arrays and matrix operations, and [`matplotlib`](https://matplotlib.org/) for plotting. In this assignment, we will also use [`scipy`](https://docs.scipy.org/doc/scipy/reference/), which contains scientific and numerical computation functions and tools. \n",
    "\n",
    "You can find instructions on how to install required libraries in the README file in the [github repository](https://github.com/dibgerge/ml-coursera-python-assignments)."
   ]
  },
  {
   "cell_type": "code",
   "execution_count": 1,
   "metadata": {},
   "outputs": [],
   "source": [
    "# used for manipulating directory paths\n",
    "import os\n",
    "\n",
    "# Scientific and vector computation for python\n",
    "import numpy as np\n",
    "\n",
    "# Plotting library\n",
    "from matplotlib import pyplot\n",
    "\n",
    "# Optimization module in scipy\n",
    "from scipy import optimize\n",
    "\n",
    "# library written for this exercise providing additional functions for assignment submission, and others\n",
    "import utils\n",
    "\n",
    "# define the submission/grader object for this exercise\n",
    "grader = utils.Grader()\n",
    "\n",
    "# tells matplotlib to embed plots within the notebook\n",
    "%matplotlib inline"
   ]
  },
  {
   "cell_type": "markdown",
   "metadata": {},
   "source": [
    "## Submission and Grading\n",
    "\n",
    "\n",
    "After completing each part of the assignment, be sure to submit your solutions to the grader. The following is a breakdown of how each part of this exercise is scored.\n",
    "\n",
    "\n",
    "| Section | Part                                 | Submission function   | Points \n",
    "| :-      |:-                                    | :-                    | :-:\n",
    "| 1       | [Sigmoid Function](#section1)                   | [`sigmoid`](#sigmoid) | 5      \n",
    "| 2       | [Compute cost for logistic regression](#section2) | [`costFunction`](#costFunction) | 30     \n",
    "| 3       | [Gradient for logistic regression](#section2)     | [`costFunction`](#costFunction) | 30     \n",
    "| 4       | [Predict Function](#section4)                     | [`predict`](#predict) | 5      \n",
    "| 5       | [Compute cost for regularized LR](#section5)      | [`costFunctionReg`](#costFunctionReg) | 15     \n",
    "| 6       | [Gradient for regularized LR](#section5)          | [`costFunctionReg`](#costFunctionReg) | 15     \n",
    "|         | Total Points                         | | 100    \n",
    "\n",
    "\n",
    "\n",
    "You are allowed to submit your solutions multiple times, and we will take only the highest score into consideration.\n",
    "\n",
    "<div class=\"alert alert-block alert-warning\">\n",
    "At the end of each section in this notebook, we have a cell which contains code for submitting the solutions thus far to the grader. Execute the cell to see your score up to the current section. For all your work to be submitted properly, you must execute those cells at least once. They must also be re-executed everytime the submitted function is updated.\n",
    "</div>\n"
   ]
  },
  {
   "cell_type": "markdown",
   "metadata": {},
   "source": [
    "## 1 Logistic Regression\n",
    "\n",
    "Trong phần này của bài tập, bạn sẽ xây dựng một mô hình hồi quy logistic để dự đoán liệu một sinh viên có được nhận vào một trường đại học hay không. Giả sử rằng bạn là quản trị viên của một khoa đại học và\n",
    "bạn muốn xác định cơ hội nhập học của mỗi ứng viên dựa trên kết quả của họ trong hai kỳ thi. Bạn có dữ liệu lịch sử từ những người đăng ký trước đó mà bạn có thể sử dụng làm tập hợp đào tạo cho hồi quy hậu cần. Đối với mỗi ví dụ đào tạo, bạn có điểm của người đăng ký trong hai kỳ thi và điểm tuyển sinh\n",
    "phán quyết. Nhiệm vụ của bạn là xây dựng một mô hình phân loại ước tính xác suất trúng tuyển của ứng viên dựa trên điểm số từ hai kỳ thi đó.\n",
    "\n",
    "Ô sau sẽ tải dữ liệu và các nhãn tương ứng:"
   ]
  },
  {
   "cell_type": "code",
   "execution_count": 2,
   "metadata": {},
   "outputs": [],
   "source": [
    "# Load data\n",
    "# The first two columns contains the exam scores and the third column\n",
    "# contains the label.\n",
    "data = np.loadtxt(os.path.join('Data', 'ex2data1.txt'), delimiter=',')\n",
    "X, y = data[:, 0:2], data[:, 2]"
   ]
  },
  {
   "cell_type": "markdown",
   "metadata": {},
   "source": [
    "### 1.1 Visualizing the data\n",
    "\n",
    "Trước khi bắt đầu triển khai bất kỳ thuật toán học nào, bạn nên hình dung dữ liệu nếu có thể. Chúng tôi hiển thị dữ liệu trên một biểu đồ 2 chiều bằng cách gọi hàm `plotData`. Bây giờ bạn sẽ hoàn thành mã trong `plotData` để nó hiển thị một hình trong đó các trục là hai điểm thi, và các ví dụ tích cực và tiêu cực được hiển thị bằng các điểm đánh dấu khác nhau.\n",
    "\n",
    "Để giúp bạn làm quen hơn với việc vẽ sơ đồ, chúng tôi đã để trống `dữ liệu âm mưu` để bạn có thể thử tự thực hiện. Tuy nhiên, đây là một bài tập không bắt buộc (chưa phân loại). Chúng tôi cũng cung cấp cách triển khai của chúng tôi bên dưới để bạn có thể sao chép hoặc tham khảo. Nếu bạn chọn sao chép ví dụ của chúng tôi, hãy đảm bảo rằng bạn biết từng lệnh của nó đang làm gì bằng cách tham khảo tài liệu `matplotlib` và` numpy`.\n",
    "\n",
    "```python\n",
    "# Find Indices of Positive and Negative Examples\n",
    "pos = y == 1\n",
    "neg = y == 0\n",
    "\n",
    "# Plot Examples\n",
    "pyplot.plot(X[pos, 0], X[pos, 1], 'k*', lw=2, ms=10)\n",
    "pyplot.plot(X[neg, 0], X[neg, 1], 'ko', mfc='y', ms=8, mec='k', mew=1)\n",
    "```"
   ]
  },
  {
   "cell_type": "code",
   "execution_count": 3,
   "metadata": {},
   "outputs": [],
   "source": [
    "def plotData(X, y):\n",
    "    \"\"\"\n",
    "    Plots the data points X and y into a new figure. Plots the data \n",
    "    points with * for the positive examples and o for the negative examples.\n",
    "    \n",
    "    Parameters\n",
    "    ----------\n",
    "    X : array_like\n",
    "        An Mx2 matrix representing the dataset. \n",
    "    \n",
    "    y : array_like\n",
    "        Label values for the dataset. A vector of size (M, ).\n",
    "    \n",
    "    Instructions\n",
    "    ------------\n",
    "    Plot the positive and negative examples on a 2D plot, using the\n",
    "    option 'k*' for the positive examples and 'ko' for the negative examples.    \n",
    "    \"\"\"\n",
    "    # Create New Figure\n",
    "    fig = pyplot.figure()\n",
    "\n",
    "    # ====================== YOUR CODE HERE ======================\n",
    "\n",
    "    # Find Indices of Positive and Negative Examples\n",
    "    pos = y == 1\n",
    "    neg = y == 0\n",
    "\n",
    "    # Plot Examples\n",
    "    pyplot.plot(X[pos, 0], X[pos, 1], 'k*', lw=2, ms=10)\n",
    "    pyplot.plot(X[neg, 0], X[neg, 1], 'ko', mfc='y', ms=8, mec='k', mew=1)\n",
    "    \n",
    "    # ============================================================"
   ]
  },
  {
   "cell_type": "markdown",
   "metadata": {},
   "source": [
    "Now, we call the implemented function to display the loaded data:"
   ]
  },
  {
   "cell_type": "code",
   "execution_count": 4,
   "metadata": {},
   "outputs": [
    {
     "data": {
      "image/png": "[encoded data removed]",
      "text/plain": [
       "<Figure size 432x288 with 1 Axes>"
      ]
     },
     "metadata": {
      "needs_background": "light"
     },
     "output_type": "display_data"
    }
   ],
   "source": [
    "plotData(X, y)\n",
    "# add axes labels\n",
    "pyplot.xlabel('Exam 1 score')\n",
    "pyplot.ylabel('Exam 2 score')\n",
    "pyplot.title('Figure 1: Scatter plot of training data\\n', fontsize = 14)\n",
    "pyplot.legend(['Admitted', 'Not admitted'])\n",
    "pyplot.show()"
   ]
  },
  {
   "cell_type": "markdown",
   "metadata": {},
   "source": [
    "<a id=\"section1\"></a>\n",
    "### 1.2 Implementation\n",
    "\n",
    "#### 1.2.1 Warmup exercise: sigmoid function\n",
    "\n",
    "Trước khi bạn bắt đầu với hàm chi phí thực tế, hãy nhớ lại rằng giả thuyết hồi quy logistic được định nghĩa là:\n",
    "\n",
    "$$ h_\\theta(x) = g(\\theta^T x)$$\n",
    "\n",
    "> **_Note:_** Chúng tôi sẽ triển khai tất cả mã của mình bằng cách sử dụng vectơ hóa, vì vậy họ có thể xử lý toàn bộ tập huấn luyện mà không cần sử dụng `for loop` và nó sẽ làm cho mã của chúng tôi nhanh và hiệu quả hơn và tổng quát hóa !!!. Để viết mã vectơ hóa, chúng ta cần lập phương trình trên thành dạng vectơ hóa. Giả thuyết hồi quy logistic được vector hóa: $$ h_θ(x) = g(Xθ) $$\n",
    "\n",
    "trong đó hàm $ g $ là hàm sigmoid. Hàm sigmoid được định nghĩa là:\n",
    "\n",
    "$$g(z) = \\frac{1}{1+e^{-z}}$$.\n",
    "\n",
    "Your first step is to implement this function `sigmoid` so it can be\n",
    "called by the rest of your program. When you are finished, try testing a few\n",
    "values by calling `sigmoid(x)` in a new cell. For large positive values of `x`, the sigmoid should be close to 1, while for large negative values, the sigmoid should be close to 0. Evaluating `sigmoid(0)` should give you exactly 0.5. Your code should also work with vectors and matrices. **For a matrix, your function should perform the sigmoid function on every element.**\n",
    "<a id=\"sigmoid\"></a>"
   ]
  },
  {
   "cell_type": "code",
   "execution_count": 5,
   "metadata": {},
   "outputs": [],
   "source": [
    "def sigmoid(z):\n",
    "    \"\"\"\n",
    "    Compute sigmoid function given the input z.\n",
    "    \n",
    "    Parameters\n",
    "    ----------\n",
    "    z : array_like\n",
    "        The input to the sigmoid function. This can be a 1-D vector \n",
    "        or a 2-D matrix. \n",
    "    \n",
    "    Returns\n",
    "    -------\n",
    "    g : array_like\n",
    "        The computed sigmoid function. g has the same shape as z, since\n",
    "        the sigmoid is computed element-wise on z.\n",
    "        \n",
    "    Instructions\n",
    "    ------------\n",
    "    Compute the sigmoid of each value of z (z can be a matrix, vector or scalar).\n",
    "    \"\"\"\n",
    "    # convert input to a numpy array\n",
    "    z = np.array(z)\n",
    "    \n",
    "    # You need to return the following variables correctly \n",
    "    g = np.zeros(z.shape)\n",
    "\n",
    "    # ====================== YOUR CODE HERE ======================\n",
    "\n",
    "    g = 1/(1 + np.exp(-z))\n",
    "\n",
    "    # =============================================================\n",
    "    return g"
   ]
  },
  {
   "cell_type": "markdown",
   "metadata": {},
   "source": [
    "Ô sau đây đánh giá hàm sigmoid tại `z = 0`. Bạn sẽ nhận được giá trị là 0,5. Bạn cũng có thể thử các giá trị khác nhau cho `z` để thử nghiệm với hàm sigmoid."
   ]
  },
  {
   "cell_type": "code",
   "execution_count": 6,
   "metadata": {},
   "outputs": [
    {
     "name": "stdout",
     "output_type": "stream",
     "text": [
      "g( 0 ) =  0.5\n"
     ]
    }
   ],
   "source": [
    "# Test the implementation of sigmoid function here\n",
    "z = 0\n",
    "g = sigmoid(z)\n",
    "\n",
    "print('g(', z, ') = ', g)"
   ]
  },
  {
   "cell_type": "markdown",
   "metadata": {},
   "source": [
    "Sau khi hoàn thành một phần của bài tập, bạn có thể gửi các giải pháp của mình để chấm điểm bằng cách thêm chức năng bạn đã sửa đổi vào đối tượng gửi, sau đó gửi chức năng của bạn đến Coursera để chấm điểm.\n",
    "\n",
    "Kịch bản gửi sẽ nhắc bạn về e-mail đăng nhập và mã thông báo gửi. Bạn có thể lấy mã thông báo gửi từ trang web cho bài tập. Bạn được phép gửi các giải pháp của mình nhiều lần và chúng tôi sẽ chỉ xem xét điểm cao nhất.\n",
    "\n",
    "Thực thi ô sau để phân loại lời giải của bạn cho phần đầu tiên của bài tập này.\n",
    "\n",
    "*You should now submit your solutions.*"
   ]
  },
  {
   "cell_type": "code",
   "execution_count": 7,
   "metadata": {},
   "outputs": [
    {
     "name": "stdout",
     "output_type": "stream",
     "text": [
      "\n",
      "Submitting Solutions | Programming Exercise logistic-regression\n",
      "\n"
     ]
    },
    {
     "name": "stdout",
     "output_type": "stream",
     "text": [
      "Login (email address):  anwarcse.me@gmail.com\n",
      "Token:  kD9Ai4R66cK11dXW\n"
     ]
    },
    {
     "name": "stdout",
     "output_type": "stream",
     "text": [
      "                                  Part Name |     Score | Feedback\n",
      "                                  --------- |     ----- | --------\n",
      "                           Sigmoid Function |   5 /   5 | Nice work!\n",
      "                   Logistic Regression Cost |   0 /  30 | \n",
      "               Logistic Regression Gradient |   0 /  30 | \n",
      "                                    Predict |   0 /   5 | \n",
      "       Regularized Logistic Regression Cost |   0 /  15 | \n",
      "   Regularized Logistic Regression Gradient |   0 /  15 | \n",
      "                                  --------------------------------\n",
      "                                            |   5 / 100 |  \n",
      "\n"
     ]
    }
   ],
   "source": [
    "# appends the implemented function in part 1 to the grader object\n",
    "grader[1] = sigmoid\n",
    "\n",
    "# send the added functions to coursera grader for getting a grade on this part\n",
    "grader.grade()"
   ]
  },
  {
   "cell_type": "markdown",
   "metadata": {},
   "source": [
    "<a id=\"section2\"></a>\n",
    "#### 1.2.2 Cost function and gradient\n",
    "\n",
    "Bây giờ bạn sẽ triển khai hàm chi phí và độ dốc cho hồi quy logistic. Trước khi tiếp tục, chúng ta thêm thuật ngữ chặn vào X."
   ]
  },
  {
   "cell_type": "code",
   "execution_count": 8,
   "metadata": {},
   "outputs": [],
   "source": [
    "# Setup the data matrix appropriately, and add ones for the intercept term\n",
    "m, n = X.shape\n",
    "\n",
    "# Add intercept term to X\n",
    "X = np.concatenate([np.ones((m, 1)), X], axis=1)"
   ]
  },
  {
   "cell_type": "markdown",
   "metadata": {},
   "source": [
    "Now, complete the code for the function `costFunction` to return the cost and gradient. Recall that the cost function in logistic regression is\n",
    "\n",
    "$$ J(\\theta) = \\frac{1}{m} \\sum_{i=1}^{m} \\left[ -y^{(i)} \\log\\left(h_\\theta\\left( x^{(i)} \\right) \\right) - \\left( 1 - y^{(i)}\\right) \\log \\left( 1 - h_\\theta\\left( x^{(i)} \\right) \\right) \\right]$$\n",
    "\n",
    "> **_NOTE:_** Vectorized cost function: $$ J(\\theta) = -\\frac{1}{m}\\big(y^T log(h) + (1-y)^T log(1-h)\\big) $$\n",
    "\n",
    "and the gradient of the cost is a vector of the same length as $\\theta$ where the $j^{th}$\n",
    "element (for $j = 0, 1, \\cdots , n$) is defined as follows:\n",
    "\n",
    "$$ \\frac{\\partial J(\\theta)}{\\partial \\theta_j} = \\frac{1}{m} \\sum_{i=1}^m \\left( h_\\theta \\left( x^{(i)} \\right) - y^{(i)} \\right) x_j^{(i)} $$\n",
    "\n",
    "> **_NOTE:_** Vectorized gradient: $$ \\frac{\\delta J(\\theta)}{\\delta\\theta_{j}} = \\frac{1}{m} X^T(h-y) $$\n",
    "\n",
    "Note that while this gradient looks identical to the linear regression gradient, the formula is actually different because linear and logistic regression have different definitions of $h_\\theta(x)$.\n",
    "<a id=\"costFunction\"></a>"
   ]
  },
  {
   "cell_type": "code",
   "execution_count": 9,
   "metadata": {},
   "outputs": [],
   "source": [
    "def costFunction(theta, X, y):\n",
    "    \"\"\"\n",
    "    Compute cost and gradient for logistic regression. \n",
    "    \n",
    "    Parameters\n",
    "    ----------\n",
    "    theta : array_like\n",
    "        The parameters for logistic regression. This a vector\n",
    "        of shape (n+1, ).\n",
    "    \n",
    "    X : array_like\n",
    "        The input dataset of shape (m x n+1) where m is the total number\n",
    "        of data points and n is the number of features. We assume the \n",
    "        intercept has already been added to the input.\n",
    "    \n",
    "    y : arra_like\n",
    "        Labels for the input. This is a vector of shape (m, ).\n",
    "    \n",
    "    Returns\n",
    "    -------\n",
    "    J : float\n",
    "        The computed value for the cost function. \n",
    "    \n",
    "    grad : array_like\n",
    "        A vector of shape (n+1, ) which is the gradient of the cost\n",
    "        function with respect to theta, at the current values of theta.\n",
    "        \n",
    "    Instructions\n",
    "    ------------\n",
    "    Compute the cost of a particular choice of theta. You should set J to \n",
    "    the cost. Compute the partial derivatives and set grad to the partial\n",
    "    derivatives of the cost w.r.t. each parameter in theta.\n",
    "    \"\"\"\n",
    "    # Initialize some useful values\n",
    "    m = y.size  # number of training examples\n",
    "\n",
    "    # You need to return the following variables correctly \n",
    "    J = 0\n",
    "    grad = np.zeros(theta.shape)\n",
    "\n",
    "    # ====================== YOUR CODE HERE ======================\n",
    "\n",
    "    # Calculate h \n",
    "    h = sigmoid(np.dot(X, theta))\n",
    "    \n",
    "    # Compute cost function J\n",
    "    J = (-1/m) * (np.dot(y.T, np.log(h)) + np.dot((1-y).T, np.log(1-h)))\n",
    "    \n",
    "    # Compute gradient\n",
    "    grad = (1/m) * (np.dot(X.T, (h-y)))\n",
    "    \n",
    "    # =============================================================\n",
    "    return J, grad"
   ]
  },
  {
   "cell_type": "markdown",
   "metadata": {},
   "source": [
    "Khi bạn hoàn tất, hãy gọi `costFunction` của bạn bằng cách sử dụng hai trường hợp thử nghiệm cho $ \\ theta $ bằng cách thực thi ô tiếp theo."
   ]
  },
  {
   "cell_type": "code",
   "execution_count": 10,
   "metadata": {},
   "outputs": [
    {
     "name": "stdout",
     "output_type": "stream",
     "text": [
      "Cost at initial theta (zeros): 0.693\n",
      "Expected cost (approx): 0.693\n",
      "\n",
      "Gradient at initial theta (zeros):\n",
      "\t[-0.1000, -12.0092, -11.2628]\n",
      "Expected gradients (approx):\n",
      "\t[-0.1000, -12.0092, -11.2628]\n",
      "\n",
      "Cost at test theta: 0.218\n",
      "Expected cost (approx): 0.218\n",
      "\n",
      "Gradient at test theta:\n",
      "\t[0.043, 2.566, 2.647]\n",
      "Expected gradients (approx):\n",
      "\t[0.043, 2.566, 2.647]\n"
     ]
    }
   ],
   "source": [
    "# Initialize fitting parameters\n",
    "initial_theta = np.zeros(n+1)\n",
    "\n",
    "cost, grad = costFunction(initial_theta, X, y)\n",
    "\n",
    "print('Cost at initial theta (zeros): {:.3f}'.format(cost))\n",
    "print('Expected cost (approx): 0.693\\n')\n",
    "\n",
    "print('Gradient at initial theta (zeros):')\n",
    "print('\\t[{:.4f}, {:.4f}, {:.4f}]'.format(*grad))\n",
    "print('Expected gradients (approx):\\n\\t[-0.1000, -12.0092, -11.2628]\\n')\n",
    "\n",
    "# Compute and display cost and gradient with non-zero theta\n",
    "test_theta = np.array([-24, 0.2, 0.2])\n",
    "cost, grad = costFunction(test_theta, X, y)\n",
    "\n",
    "print('Cost at test theta: {:.3f}'.format(cost))\n",
    "print('Expected cost (approx): 0.218\\n')\n",
    "\n",
    "print('Gradient at test theta:')\n",
    "print('\\t[{:.3f}, {:.3f}, {:.3f}]'.format(*grad))\n",
    "print('Expected gradients (approx):\\n\\t[0.043, 2.566, 2.647]')"
   ]
  },
  {
   "cell_type": "markdown",
   "metadata": {},
   "source": [
    "*You should now submit your solutions.*"
   ]
  },
  {
   "cell_type": "code",
   "execution_count": 11,
   "metadata": {},
   "outputs": [
    {
     "name": "stdout",
     "output_type": "stream",
     "text": [
      "\n",
      "Submitting Solutions | Programming Exercise logistic-regression\n",
      "\n"
     ]
    },
    {
     "name": "stdout",
     "output_type": "stream",
     "text": [
      "Use token from last successful submission (anwarcse.me@gmail.com)? (Y/n):  y\n"
     ]
    },
    {
     "name": "stdout",
     "output_type": "stream",
     "text": [
      "                                  Part Name |     Score | Feedback\n",
      "                                  --------- |     ----- | --------\n",
      "                           Sigmoid Function |   5 /   5 | Nice work!\n",
      "                   Logistic Regression Cost |  30 /  30 | Nice work!\n",
      "               Logistic Regression Gradient |  30 /  30 | Nice work!\n",
      "                                    Predict |   0 /   5 | \n",
      "       Regularized Logistic Regression Cost |   0 /  15 | \n",
      "   Regularized Logistic Regression Gradient |   0 /  15 | \n",
      "                                  --------------------------------\n",
      "                                            |  65 / 100 |  \n",
      "\n"
     ]
    }
   ],
   "source": [
    "grader[2] = costFunction\n",
    "grader[3] = costFunction\n",
    "grader.grade()"
   ]
  },
  {
   "cell_type": "markdown",
   "metadata": {},
   "source": [
    "#### 1.2.3 Learning parameters using `scipy.optimize`\n",
    "\n",
    "Trong bài tập trước, bạn đã tìm thấy các tham số tối ưu của mô hình hồi quy tuyến tính bằng cách triển khai gradient descent. Bạn đã viết một hàm chi phí và tính toán độ dốc của nó, sau đó thực hiện một bước giảm độ dốc tương ứng. Lần này, thay vì thực hiện các bước giảm dần độ dốc, bạn sẽ sử dụng [`scipy.optimize` module] (https://docs.scipy.org/doc/scipy/reference/optimize.html). SciPy là một thư viện tính toán số cho `python`. Nó cung cấp một mô-đun tối ưu hóa để tìm kiếm và giảm thiểu root. Kể từ `scipy 1.0`, hàm` scipy.optimize.minimize` là phương pháp được sử dụng cho các vấn đề tối ưu hóa (cả có giới hạn và không bị giới hạn).\n",
    "\n",
    "Đối với hồi quy logistic, bạn muốn tối ưu hóa hàm chi phí $J(\\theta)$ với các tham số $\\theta$.\n",
    "Một cách cụ thể, bạn sẽ sử dụng `mize.minimize` để tìm các tham số tốt nhất $\\theta$ cho hàm chi phí hồi quy logistic, đưa ra một cố định dữ liệu (của các giá trị X và y). Bạn sẽ vượt qua để `tối ưu hóa. Tối ưu hóa` các đầu vào sau:\n",
    "- `costFunction`: Một hàm chi phí, khi được cung cấp tập huấn luyện và một $\\theta$ cụ thể, sẽ tính toán chi phí hồi quy logistic và gradient liên quan đến $\\theta$ cho tập dữ liệu (X, y). Điều quan trọng cần lưu ý là chúng ta chỉ truyền tên của hàm mà không có dấu ngoặc đơn. Điều này cho thấy rằng chúng tôi chỉ cung cấp một tham chiếu đến hàm này và không đánh giá kết quả từ hàm này.\n",
    "\n",
    "- `initial_theta`: The initial values of the parameters we are trying to optimize.\n",
    "- `(X, y)`: These are additional arguments to the cost function.\n",
    "- `jac`: Chỉ báo nếu hàm chi phí trả về Jacobian (gradient) cùng với giá trị chi phí. (Thật)\n",
    "- `method`: Optimization method/algorithm to use\n",
    "- `options`: Các tùy chọn bổ sung có thể dành riêng cho phương pháp tối ưu hóa cụ thể. Trong phần sau, chúng tôi chỉ cho thuật toán biết số lần lặp tối đa trước khi nó kết thúc.\n",
    "\n",
    "Nếu bạn đã hoàn thành đúng chức năng `costFunction`, thì `optimize.minimize` sẽ hội tụ các thông số tối ưu hóa phù hợp và trả về các giá trị cuối cùng của cost và $ \\ theta $ trong một đối tượng lớp. Lưu ý rằng bằng cách sử dụng `optimize.minimize`, bạn không phải tự viết bất kỳ vòng lặp nào hoặc đặt tốc độ học tập giống như bạn đã làm đối với gradient descent. Tất cả điều này được thực hiện bởi `optimize.minimize`: bạn chỉ cần cung cấp một hàm tính toán chi phí và gradient.\n",
    "\n",
    "Trong phần sau, chúng ta đã có mã được viết để gọi là `optimize.minimize` với các đối số chính xác."
   ]
  },
  {
   "cell_type": "code",
   "execution_count": 12,
   "metadata": {},
   "outputs": [
    {
     "name": "stdout",
     "output_type": "stream",
     "text": [
      "Cost at theta found by optimize.minimize: 0.203\n",
      "Expected cost (approx): 0.203\n",
      "\n",
      "theta:\n",
      "\t[-25.161, 0.206, 0.201]\n",
      "Expected theta (approx):\n",
      "\t[-25.161, 0.206, 0.201]\n"
     ]
    }
   ],
   "source": [
    "# set options for optimize.minimize\n",
    "options= {'maxiter': 400}\n",
    "\n",
    "# see documention for scipy's optimize.minimize  for description about\n",
    "# the different parameters\n",
    "# The function returns an object `OptimizeResult`\n",
    "# We use truncated Newton algorithm for optimization which is \n",
    "# equivalent to MATLAB's fminunc\n",
    "# See https://stackoverflow.com/questions/18801002/fminunc-alternate-in-numpy\n",
    "res = optimize.minimize(costFunction,\n",
    "                        initial_theta,\n",
    "                        (X, y),\n",
    "                        jac=True,\n",
    "                        method='TNC',\n",
    "                        options=options)\n",
    "\n",
    "# the fun property of `OptimizeResult` object returns\n",
    "# the value of costFunction at optimized theta\n",
    "cost = res.fun\n",
    "\n",
    "# the optimized theta is in the x property\n",
    "theta = res.x\n",
    "\n",
    "# Print theta to screen\n",
    "print('Cost at theta found by optimize.minimize: {:.3f}'.format(cost))\n",
    "print('Expected cost (approx): 0.203\\n');\n",
    "\n",
    "print('theta:')\n",
    "print('\\t[{:.3f}, {:.3f}, {:.3f}]'.format(*theta))\n",
    "print('Expected theta (approx):\\n\\t[-25.161, 0.206, 0.201]')"
   ]
  },
  {
   "cell_type": "markdown",
   "metadata": {},
   "source": [
    "Once `optimize.minimize` completes, we want to use the final value for $\\theta$ to visualize the decision boundary on the training data as shown in the figure below. \n",
    "\n",
    "![](Figures/decision_boundary1.png)\n",
    "\n",
    "Để làm như vậy, chúng tôi đã viết một hàm `plotDecisionBoundary` để vẽ ranh giới quyết định trên đầu dữ liệu huấn luyện. Bạn không cần phải viết bất kỳ mã nào để vẽ ranh giới quyết định, nhưng chúng tôi cũng khuyến khích bạn xem mã trong `plotDecisionBoundary` để biết cách vẽ ranh giới như vậy bằng cách sử dụng các giá trị $ \\theta $. Bạn có thể tìm thấy hàm này trong tệp `utils.py` đi kèm với bài tập này."
   ]
  },
  {
   "cell_type": "code",
   "execution_count": 13,
   "metadata": {},
   "outputs": [
    {
     "data": {
      "image/png": "[encoded data removed]",
      "text/plain": [
       "<Figure size 432x288 with 1 Axes>"
      ]
     },
     "metadata": {
      "needs_background": "light"
     },
     "output_type": "display_data"
    }
   ],
   "source": [
    "# Plot Boundary\n",
    "utils.plotDecisionBoundary(plotData, theta, X, y)"
   ]
  },
  {
   "cell_type": "markdown",
   "metadata": {},
   "source": [
    "<a id=\"section4\"></a>\n",
    "#### 1.2.4 Evaluating logistic regression\n",
    "\n",
    "Sau khi tìm hiểu các thông số, bạn có thể sử dụng mô hình để dự đoán liệu một sinh viên cụ thể có được nhận hay không. Đối với một sinh viên có điểm Bài thi 1 là 45 và điểm Bài thi 2 là 85, bạn nên mong đợi xác suất nhập học là 0,776. Một cách khác để đánh giá chất lượng của các tham số mà chúng tôi đã tìm thấy là xem mô hình đã học dự đoán tốt như thế nào trên tập huấn luyện của chúng tôi. Ở phần này, nhiệm vụ của bạn là hoàn thành đoạn mã trong hàm `dự đoán`. Hàm dự đoán sẽ tạo ra các dự đoán “1” hoặc “0” với một tập dữ liệu và một vectơ tham số đã học được $\\theta$.\n",
    "<a id=\"predict\"></a>"
   ]
  },
  {
   "cell_type": "code",
   "execution_count": 14,
   "metadata": {},
   "outputs": [],
   "source": [
    "def predict(theta, X):\n",
    "    \"\"\"\n",
    "    Predict whether the label is 0 or 1 using learned logistic regression.\n",
    "    Computes the predictions for X using a threshold at 0.5 \n",
    "    (i.e., if sigmoid(theta.T*x) >= 0.5, predict 1)\n",
    "    \n",
    "    Parameters\n",
    "    ----------\n",
    "    theta : array_like\n",
    "        Parameters for logistic regression. A vecotor of shape (n+1, ).\n",
    "    \n",
    "    X : array_like\n",
    "        The data to use for computing predictions. The rows is the number \n",
    "        of points to compute predictions, and columns is the number of\n",
    "        features.\n",
    "\n",
    "    Returns\n",
    "    -------\n",
    "    p : array_like\n",
    "        Predictions and 0 or 1 for each row in X. \n",
    "    \n",
    "    Instructions\n",
    "    ------------\n",
    "    Complete the following code to make predictions using your learned \n",
    "    logistic regression parameters.You should set p to a vector of 0's and 1's    \n",
    "    \"\"\"\n",
    "    m = X.shape[0] # Number of training examples\n",
    "\n",
    "    # You need to return the following variables correctly\n",
    "    p = np.zeros(m)\n",
    "\n",
    "    # ====================== YOUR CODE HERE ======================\n",
    "\n",
    "    pred = sigmoid(np.dot(X, theta))\n",
    "    for i in range(m):\n",
    "        if pred[i] >= 0.5:\n",
    "            p[i] = 1\n",
    "        else:\n",
    "            p[i] = 0\n",
    "    \n",
    "    # ============================================================\n",
    "    return p"
   ]
  },
  {
   "cell_type": "markdown",
   "metadata": {},
   "source": [
    "Sau khi bạn đã hoàn thành mã trong `dự đoán`, chúng tôi sẽ tiến hành báo cáo độ chính xác đào tạo của trình phân loại của bạn bằng cách tính toán tỷ lệ phần trăm các ví dụ mà trình phân loại đó chính xác."
   ]
  },
  {
   "cell_type": "code",
   "execution_count": 15,
   "metadata": {},
   "outputs": [
    {
     "name": "stdout",
     "output_type": "stream",
     "text": [
      "For a student with scores 45 and 85,we predict an admission probability of 0.776\n",
      "Expected value: 0.775 +/- 0.002\n",
      "\n",
      "Train Accuracy: 89.00 %\n",
      "Expected accuracy (approx): 89.00 %\n"
     ]
    }
   ],
   "source": [
    "#  Predict probability for a student with score 45 on exam 1 \n",
    "#  and score 85 on exam 2 \n",
    "prob = sigmoid(np.dot([1, 45, 85], theta))\n",
    "print('For a student with scores 45 and 85,'\n",
    "      'we predict an admission probability of {:.3f}'.format(prob))\n",
    "print('Expected value: 0.775 +/- 0.002\\n')\n",
    "\n",
    "# Compute accuracy on our training set\n",
    "p = predict(theta, X)\n",
    "print('Train Accuracy: {:.2f} %'.format(np.mean(p == y) * 100))\n",
    "print('Expected accuracy (approx): 89.00 %')"
   ]
  },
  {
   "cell_type": "markdown",
   "metadata": {},
   "source": [
    "*You should now submit your solutions.*"
   ]
  },
  {
   "cell_type": "code",
   "execution_count": 16,
   "metadata": {},
   "outputs": [
    {
     "name": "stdout",
     "output_type": "stream",
     "text": [
      "\n",
      "Submitting Solutions | Programming Exercise logistic-regression\n",
      "\n"
     ]
    },
    {
     "name": "stdout",
     "output_type": "stream",
     "text": [
      "Use token from last successful submission (anwarcse.me@gmail.com)? (Y/n):  y\n"
     ]
    },
    {
     "name": "stdout",
     "output_type": "stream",
     "text": [
      "                                  Part Name |     Score | Feedback\n",
      "                                  --------- |     ----- | --------\n",
      "                           Sigmoid Function |   5 /   5 | Nice work!\n",
      "                   Logistic Regression Cost |  30 /  30 | Nice work!\n",
      "               Logistic Regression Gradient |  30 /  30 | Nice work!\n",
      "                                    Predict |   5 /   5 | Nice work!\n",
      "       Regularized Logistic Regression Cost |   0 /  15 | \n",
      "   Regularized Logistic Regression Gradient |   0 /  15 | \n",
      "                                  --------------------------------\n",
      "                                            |  70 / 100 |  \n",
      "\n"
     ]
    }
   ],
   "source": [
    "grader[4] = predict\n",
    "grader.grade()"
   ]
  },
  {
   "cell_type": "markdown",
   "metadata": {},
   "source": [
    "## 2 Regularized logistic regression\n",
    "\n",
    "Trong phần này của bài tập, bạn sẽ thực hiện hồi quy logistic chính quy để dự đoán liệu các vi mạch từ một nhà máy chế tạo có vượt qua đảm bảo chất lượng (QA) hay không. Trong quá trình QA, mỗi vi mạch sẽ trải qua các bài kiểm tra khác nhau để đảm bảo nó hoạt động chính xác.\n",
    "Giả sử bạn là giám đốc sản phẩm của nhà máy và bạn có kết quả kiểm tra một số vi mạch trong hai lần kiểm tra khác nhau. Từ hai bài kiểm tra này, bạn muốn xác định liệu các vi mạch nên được chấp nhận hay bị từ chối. Để giúp bạn đưa ra quyết định, bạn có một tập dữ liệu về kết quả kiểm tra trên các vi mạch trong quá khứ, từ đó bạn có thể xây dựng mô hình hồi quy logistic.\n",
    "\n",
    "Đầu tiên, chúng tôi tải dữ liệu từ tệp CSV:"
   ]
  },
  {
   "cell_type": "code",
   "execution_count": 17,
   "metadata": {},
   "outputs": [],
   "source": [
    "# Load Data\n",
    "# The first two columns contains the X values and the third column\n",
    "# contains the label (y).\n",
    "data = np.loadtxt(os.path.join('Data', 'ex2data2.txt'), delimiter=',')\n",
    "X = data[:, :2]\n",
    "y = data[:, 2]"
   ]
  },
  {
   "cell_type": "markdown",
   "metadata": {},
   "source": [
    "### 2.1 Visualize the data\n",
    "\n",
    "Tương tự như các phần trước của bài tập này, `plotData` được sử dụng để tạo một hình, trong đó các trục là hai điểm kiểm tra và các ví dụ dương (y = 1, được chấp nhận) và tiêu cực (y = 0, bị từ chối) được hiển thị với các điểm đánh dấu khác nhau."
   ]
  },
  {
   "cell_type": "code",
   "execution_count": 18,
   "metadata": {},
   "outputs": [
    {
     "data": {
      "image/png": "[encoded data removed]",
      "text/plain": [
       "<Figure size 432x288 with 1 Axes>"
      ]
     },
     "metadata": {
      "needs_background": "light"
     },
     "output_type": "display_data"
    }
   ],
   "source": [
    "plotData(X, y)\n",
    "# Labels and Legend\n",
    "pyplot.xlabel('Microchip Test 1')\n",
    "pyplot.ylabel('Microchip Test 2')\n",
    "\n",
    "# Specified in plot order\n",
    "pyplot.legend(['y = 1', 'y = 0'], loc='upper right')\n",
    "pyplot.show()"
   ]
  },
  {
   "cell_type": "markdown",
   "metadata": {},
   "source": [
    "Hình trên cho thấy rằng tập dữ liệu của chúng ta không thể được phân tách thành các ví dụ tích cực và tiêu cực bằng một đường thẳng xuyên qua biểu đồ. Do đó, một ứng dụng thẳng của hồi quy logistic sẽ không hoạt động tốt trên tập dữ liệu này vì hồi quy logistic sẽ chỉ có thể tìm thấy ranh giới quyết định tuyến tính.\n",
    "\n",
    "### 2.2 Feature mapping\n",
    "\n",
    "Một cách để phù hợp với dữ liệu hơn là tạo nhiều tính năng hơn từ mỗi điểm dữ liệu. Trong hàm `mapFeature`, chúng tôi sẽ ánh xạ các đối tượng thành tất cả các số hạng đa thức của $ x_1 $ và $ x_2 $ cho đến lũy thừa thứ sáu.\n",
    "\n",
    "$$ \\text{mapFeature}(x) = \\begin{bmatrix} 1 & x_1 & x_2 & x_1^2 & x_1 x_2 & x_2^2 & x_1^3 & \\dots & x_1 x_2^5 & x_2^6 \\end{bmatrix}^T $$\n",
    "\n",
    "Kết quả của việc ánh xạ này, vectơ của hai đối tượng địa lý (điểm trong hai bài kiểm tra QA) của chúng tôi đã được chuyển đổi thành một vectơ 28 chiều. Một bộ phân loại hồi quy logistic được đào tạo trên vectơ đặc trưng có chiều cao hơn này sẽ có ranh giới quyết định phức tạp hơn và sẽ xuất hiện phi tuyến tính khi được vẽ trong biểu đồ 2 chiều của chúng tôi.\n",
    "Mặc dù ánh xạ tính năng cho phép chúng tôi xây dựng một bộ phân loại biểu cảm hơn, nhưng nó cũng dễ bị trang bị quá mức. Trong các phần tiếp theo của bài tập, bạn sẽ thực hiện hồi quy logistic chính quy để phù hợp với dữ liệu và cũng tự mình xem việc chính quy hóa có thể giúp chống lại vấn đề trang bị quá mức như thế nào.\n"
   ]
  },
  {
   "cell_type": "code",
   "execution_count": 19,
   "metadata": {},
   "outputs": [],
   "source": [
    "def mapFeature(X1, X2):\n",
    "    \"\"\"\n",
    "    Maps the two input features to quadratic features used in the regularization exercise.\n",
    "\n",
    "    Returns a new feature array with more features, comprising of\n",
    "    X1, X2, X1.^2, X2.^2, X1*X2, X1*X2.^2, etc..\n",
    "\n",
    "    Parameters\n",
    "    ----------\n",
    "    X1 : array_like\n",
    "        A vector of shape (m, 1), containing one feature for all examples.\n",
    "\n",
    "    X2 : array_like\n",
    "        A vector of shape (m, 1), containing a second feature for all examples.\n",
    "        \n",
    "        Inputs X1, X2 must be the same size.\n",
    "\n",
    "    degree: int, optional\n",
    "        The polynomial degree.\n",
    "\n",
    "    Returns\n",
    "    -------\n",
    "    : array_like\n",
    "        A matrix of of m rows, and columns depend on the degree of polynomial.\n",
    "    \"\"\"\n",
    "    degree = 6\n",
    "    out = np.ones(X.shape[0])[:, np.newaxis]\n",
    "    for i in range(1, degree+1):\n",
    "        for j in range(0, i+1):\n",
    "            out = np.hstack((out, np.multiply(np.power(X1, i-j), np.power(X2, j))[:, np.newaxis]))\n",
    "    return out"
   ]
  },
  {
   "cell_type": "code",
   "execution_count": 20,
   "metadata": {},
   "outputs": [],
   "source": [
    "# Note that mapFeature also adds a column of ones for us, so the intercept term is included\n",
    "X = mapFeature(X[:, 0], X[:, 1])\n",
    "\n",
    "# Setup the data matrix appropriately\n",
    "m, n = X.shape\n",
    "y = y[:, np.newaxis] # Convert label (y) from 1D array to 2D array of shape (m, 1)"
   ]
  },
  {
   "cell_type": "markdown",
   "metadata": {},
   "source": [
    "<a id=\"section5\"></a>\n",
    "### 2.3 Cost function and gradient\n",
    "\n",
    "Bây giờ bạn sẽ triển khai mã để tính toán hàm chi phí và độ dốc cho hồi quy logistic chính quy. Hoàn thành mã cho hàm `costFunctionReg` dưới đây để trả về chi phí và độ dốc.\n",
    "\n",
    "Nhớ lại rằng hàm chi phí chính quy trong hồi quy logistic là\n",
    "\n",
    "$$ J(\\theta) = \\frac{1}{m} \\sum_{i=1}^m \\left[ -y^{(i)}\\log \\left( h_\\theta \\left(x^{(i)} \\right) \\right) - \\left( 1 - y^{(i)} \\right) \\log \\left( 1 - h_\\theta \\left( x^{(i)} \\right) \\right) \\right] + \\frac{\\lambda}{2m} \\sum_{j=1}^n \\theta_j^2 $$\n",
    "\n",
    "> **_NOTE:_** Vectorized cost function: $$ J(\\theta) = -\\frac{1}{m}\\big(y^T log(h) + (1-y)^T log(1-h)\\big) + \\frac{\\lambda}{2m}\\theta_j^T \\theta_j $$\n",
    "\n",
    "Note that you should not regularize the parameters $\\theta_0$. The gradient of the cost function is a vector where the $j^{th}$ element is defined as follows:\n",
    "\n",
    "$$ \\frac{\\partial J(\\theta)}{\\partial \\theta_0} = \\frac{1}{m} \\sum_{i=1}^m \\left( h_\\theta \\left(x^{(i)}\\right) - y^{(i)} \\right) x_j^{(i)} \\qquad \\text{for } j =0 $$\n",
    "\n",
    "$$ \\frac{\\partial J(\\theta)}{\\partial \\theta_j} = \\left( \\frac{1}{m} \\sum_{i=1}^m \\left( h_\\theta \\left(x^{(i)}\\right) - y^{(i)} \\right) x_j^{(i)} \\right) + \\frac{\\lambda}{m}\\theta_j \\qquad \\text{for } j \\ge 1 $$\n",
    "\n",
    "> **_NOTE:_** Vectorized form:\n",
    "$$ \\frac{\\delta J(\\theta)}{\\delta\\theta_{0}} = \\frac{1}{m} X^T(h-y) \\qquad \\text{for } j =0 $$\n",
    "$$ \\frac{\\delta J(\\theta)}{\\delta\\theta_{j}} = \\frac{1}{m} X^T(h-y) + \\frac{\\lambda}{m}\\theta_j \\qquad \\text{for } j \\ge 1 $$\n",
    "\n",
    "<a id=\"costFunctionReg\"></a>"
   ]
  },
  {
   "cell_type": "code",
   "execution_count": 27,
   "metadata": {},
   "outputs": [],
   "source": [
    "def costFunctionReg(theta, X, y, lambda_):\n",
    "    \"\"\"\n",
    "    Compute cost and gradient for logistic regression with regularization.\n",
    "    \n",
    "    Parameters\n",
    "    ----------\n",
    "    theta : array_like\n",
    "        Logistic regression parameters. A vector with shape (n, ). n is \n",
    "        the number of features including any intercept. If we have mapped\n",
    "        our initial features into polynomial features, then n is the total \n",
    "        number of polynomial features. \n",
    "    \n",
    "    X : array_like\n",
    "        The data set with shape (m x n). m is the number of examples, and\n",
    "        n is the number of features (after feature mapping).\n",
    "    \n",
    "    y : array_like\n",
    "        The data labels. A vector with shape (m, ).\n",
    "    \n",
    "    lambda_ : float\n",
    "        The regularization parameter. \n",
    "    \n",
    "    Returns\n",
    "    -------\n",
    "    J : float\n",
    "        The computed value for the regularized cost function. \n",
    "    \n",
    "    grad : array_like\n",
    "        A vector of shape (n, ) which is the gradient of the cost\n",
    "        function with respect to theta, at the current values of theta.\n",
    "    \n",
    "    Instructions\n",
    "    ------------\n",
    "    Compute the cost `J` of a particular choice of theta.\n",
    "    Compute the partial derivatives and set `grad` to the partial\n",
    "    derivatives of the cost w.r.t. each parameter in theta.\n",
    "    \"\"\"\n",
    "    # Initialize some useful values\n",
    "    m = y.size  # number of training examples\n",
    "    n = theta.size\n",
    "\n",
    "    # You need to return the following variables correctly \n",
    "    J = 0\n",
    "    grad = np.zeros(theta.shape)\n",
    "\n",
    "    # ===================== YOUR CODE HERE ======================\n",
    "\n",
    "    # Compute h\n",
    "    h = sigmoid(np.dot(X, theta))\n",
    "    \n",
    "    # Compute J\n",
    "    J = (-1/m) * (np.dot(y.T, np.log(h)) + np.dot((1-y).T, np.log(1-h))) + (lambda_/(2*m)) * (np.dot(theta[1:].T, theta[1:]))\n",
    "    \n",
    "    # Compute grad for j = 0\n",
    "    grad[0] = (1/m) * (np.dot(X[:, 0].T, h-y))\n",
    "    \n",
    "    # Compute grad for j >= 1\n",
    "    for i in range(1, n):\n",
    "        grad[i] = (1/m) * (np.dot(X[:, i].T, h-y)) + (lambda_/m) * (theta[i])\n",
    "    \n",
    "    # =============================================================\n",
    "    return J, grad"
   ]
  },
  {
   "cell_type": "markdown",
   "metadata": {},
   "source": [
    "Once you are done with the `costFunctionReg`, we call it below using the initial value of $\\theta$ (initialized to all zeros), and also another test case where $\\theta$ is all ones."
   ]
  },
  {
   "cell_type": "code",
   "execution_count": 28,
   "metadata": {},
   "outputs": [
    {
     "name": "stdout",
     "output_type": "stream",
     "text": [
      "Cost at initial theta (zeros):  [0.69314718]\n",
      "Expected cost (approx)       : 0.693\n",
      "\n",
      "Gradient at initial theta (zeros) - first five values only:  [8.47457627e-03 1.87880932e-02 7.77711864e-05 5.03446395e-02\n",
      " 1.15013308e-02]\n",
      "Expected gradients (approx) - first five values only:\n",
      "\t[0.0085, 0.0188, 0.0001, 0.0503, 0.0115]\n",
      "\n",
      "------------------------------\n",
      "\n",
      "Cost at test theta    : [3.16450933]\n",
      "Expected cost (approx): 3.16\n",
      "\n",
      "Gradient at initial theta (zeros) - first five values only:\n",
      "Gradient at initial theta (zeros) - first five values only:  [0.34604507 0.16135192 0.19479576 0.22686278 0.09218568]\n",
      "Expected gradients (approx) - first five values only:\n",
      "\t[0.3460, 0.1614, 0.1948, 0.2269, 0.0922]\n"
     ]
    }
   ],
   "source": [
    "# Initialize fitting parameters\n",
    "initial_theta = np.zeros((n, 1))\n",
    "\n",
    "# Set regularization parameter lambda to 1\n",
    "# DO NOT use `lambda` as a variable name in python\n",
    "# because it is a python keyword\n",
    "lambda_ = 1\n",
    "\n",
    "# Compute and display initial cost and gradient for regularized logistic\n",
    "# regression\n",
    "cost, grad = costFunctionReg(initial_theta, X, y, lambda_)\n",
    "\n",
    "print('Cost at initial theta (zeros): ', cost.flatten())\n",
    "print('Expected cost (approx)       : 0.693\\n')\n",
    "\n",
    "print('Gradient at initial theta (zeros) - first five values only: ', grad[:5].flatten())\n",
    "print('Expected gradients (approx) - first five values only:')\n",
    "print('\\t[0.0085, 0.0188, 0.0001, 0.0503, 0.0115]\\n')\n",
    "\n",
    "\n",
    "# Compute and display cost and gradient\n",
    "# with all-ones theta and lambda = 10\n",
    "test_theta = np.ones((n,1))\n",
    "cost, grad = costFunctionReg(test_theta, X, y, 10)\n",
    "\n",
    "print('------------------------------\\n')\n",
    "print('Cost at test theta    :', cost.flatten())\n",
    "print('Expected cost (approx): 3.16\\n')\n",
    "\n",
    "print('Gradient at initial theta (zeros) - first five values only:')\n",
    "print('Gradient at initial theta (zeros) - first five values only: ', grad[:5].flatten())\n",
    "print('Expected gradients (approx) - first five values only:')\n",
    "print('\\t[0.3460, 0.1614, 0.1948, 0.2269, 0.0922]')"
   ]
  },
  {
   "cell_type": "markdown",
   "metadata": {},
   "source": [
    "*You should now submit your solutions.*"
   ]
  },
  {
   "cell_type": "code",
   "execution_count": 29,
   "metadata": {},
   "outputs": [
    {
     "name": "stdout",
     "output_type": "stream",
     "text": [
      "\n",
      "Submitting Solutions | Programming Exercise logistic-regression\n",
      "\n"
     ]
    },
    {
     "name": "stdout",
     "output_type": "stream",
     "text": [
      "Use token from last successful submission (anwarcse.me@gmail.com)? (Y/n):  y\n"
     ]
    },
    {
     "name": "stdout",
     "output_type": "stream",
     "text": [
      "                                  Part Name |     Score | Feedback\n",
      "                                  --------- |     ----- | --------\n",
      "                           Sigmoid Function |   5 /   5 | Nice work!\n",
      "                   Logistic Regression Cost |  30 /  30 | Nice work!\n",
      "               Logistic Regression Gradient |  30 /  30 | Nice work!\n",
      "                                    Predict |   5 /   5 | Nice work!\n",
      "       Regularized Logistic Regression Cost |  15 /  15 | Nice work!\n",
      "   Regularized Logistic Regression Gradient |  15 /  15 | Nice work!\n",
      "                                  --------------------------------\n",
      "                                            | 100 / 100 |  \n",
      "\n"
     ]
    }
   ],
   "source": [
    "grader[5] = costFunctionReg\n",
    "grader[6] = costFunctionReg\n",
    "grader.grade()"
   ]
  },
  {
   "cell_type": "markdown",
   "metadata": {},
   "source": [
    "#### 2.3.1 Learning parameters using `scipy.optimize.minimize`\n",
    "\n",
    "Tương tự như các phần trước, bạn sẽ sử dụng `mize.minimize` để tìm hiểu các tham số tối ưu $ \\theta $. Nếu bạn đã hoàn thành chi phí và độ dốc cho hồi quy logistic chính quy (`costFunctionReg`) một cách chính xác, bạn sẽ có thể chuyển qua phần tiếp theo của để tìm hiểu các tham số $ \\theta $ bằng cách sử dụng `mize.minimize`."
   ]
  },
  {
   "cell_type": "code",
   "execution_count": 30,
   "metadata": {},
   "outputs": [
    {
     "name": "stdout",
     "output_type": "stream",
     "text": [
      "Optimized theta:  [ 1.27271027  0.62529965  1.18111686 -2.01987399 -0.91743189 -1.43166929\n",
      "  0.12393227 -0.36553118 -0.35725403 -0.17516291 -1.45817009 -0.05098418\n",
      " -0.61558553 -0.27469165 -1.19271298 -0.24217841 -0.20603298 -0.04466178\n",
      " -0.27778951 -0.29539513 -0.45645981 -1.04319155  0.02779373 -0.29244871\n",
      "  0.0155576  -0.32742406 -0.1438915  -0.92467487]\n",
      "Cost:  0.529002729964499\n"
     ]
    }
   ],
   "source": [
    "# Initialize fitting parameters\n",
    "initial_theta = np.zeros((n, 1))\n",
    "\n",
    "# Set regularization parameter lambda to 1 (you should vary this)\n",
    "lambda_ = 1\n",
    "res = optimize.minimize(costFunctionReg,\n",
    "                        initial_theta.flatten(),\n",
    "                        (X, y.flatten(), lambda_),\n",
    "                        jac=True,\n",
    "                        method='TNC',\n",
    "                        options={'maxiter': 3000})\n",
    "\n",
    "# The fun property of OptimizeResult object returns the value of costFunctionReg at optimized theta\n",
    "cost = res.fun\n",
    "\n",
    "# The optimized theta is in the x property of the result\n",
    "theta = res.x\n",
    "\n",
    "print(\"Optimized theta: \", theta)\n",
    "print(\"Cost: \", cost)"
   ]
  },
  {
   "cell_type": "markdown",
   "metadata": {},
   "source": [
    "### 2.4 Plotting the decision boundary\n",
    "\n",
    "Để giúp bạn hình dung mô hình được học bởi bộ phân loại này, chúng tôi đã cung cấp hàm `plotDecisionBoundary` vẽ ranh giới quyết định (phi tuyến tính) phân tách các ví dụ tích cực và tiêu cực. Trong `plotDecisionBoundary`, chúng tôi vẽ ranh giới quyết định phi tuyến tính bằng cách tính toán các dự đoán của trình phân loại trên một lưới có khoảng cách đều nhau và sau đó vẽ một biểu đồ đường bao trong đó các dự đoán thay đổi từ y = 0 thành y = 1."
   ]
  },
  {
   "cell_type": "markdown",
   "metadata": {},
   "source": [
    "### 2.5 Optional (ungraded) exercises\n",
    "\n",
    "Trong phần này của bài tập, bạn sẽ phải thử các thông số chính quy hóa khác nhau cho tập dữ liệu để hiểu cách chính quy hóa ngăn chặn việc trang bị quá mức.\n",
    "\n",
    "Lưu ý những thay đổi trong ranh giới quyết định khi bạn thay đổi $ \\lambda $. Với một nhỏ $ \\lambda $, bạn sẽ thấy rằng trình phân loại gần như đúng mọi ví dụ huấn luyện, nhưng lại vẽ ra một ranh giới rất phức tạp, do đó làm quá tải dữ liệu. Xem các số liệu sau để biết ranh giới quyết định mà bạn sẽ nhận được cho các giá trị khác nhau của $ \\lambda $. \n",
    "\n",
    "<table>\n",
    "    <tr>\n",
    "        <td style=\"text-align:center\">\n",
    "            No regularization (overfitting)<img src=\"Figures/decision_boundary3.png\">\n",
    "        </td>        \n",
    "        <td style=\"text-align:center\">\n",
    "            Decision boundary with regularization\n",
    "            <img src=\"Figures/decision_boundary2.png\">\n",
    "        </td>\n",
    "        <td style=\"text-align:center\">\n",
    "            Decision boundary with too much regularization\n",
    "            <img src=\"Figures/decision_boundary4.png\">\n",
    "        </td>        \n",
    "    <tr>\n",
    "</table>\n",
    "\n",
    "Đây không phải là một ranh giới quyết định tốt: ví dụ: nó dự đoán rằng một điểm tại $ x=(−0,25,1,5) $ được chấp nhận $ (y=1) $, có vẻ là một quyết định không chính xác đối với tập huấn luyện.\n",
    "Với $ \\lambda$ lớn hơn, bạn sẽ thấy một biểu đồ thể hiện ranh giới quyết định đơn giản hơn mà vẫn phân tách khá rõ ràng những mặt tích cực và tiêu cực. Tuy nhiên, nếu $ \\lambda $ được đặt thành một giá trị quá cao, bạn sẽ không phù hợp và ranh giới quyết định sẽ không tuân theo dữ liệu quá tốt, do đó làm thiếu dữ liệu."
   ]
  },
  {
   "cell_type": "code",
   "execution_count": 31,
   "metadata": {},
   "outputs": [
    {
     "data": {
      "image/png": "[encoded data removed]",
      "text/plain": [
       "<Figure size 432x288 with 1 Axes>"
      ]
     },
     "metadata": {
      "needs_background": "light"
     },
     "output_type": "display_data"
    }
   ],
   "source": [
    "def plotDecisionBoundary(theta, X, y):\n",
    "    \"\"\"\n",
    "    Plots the data points X and y into a new figure with the decision boundary defined by theta.\n",
    "    Plots the data points with + for the positive examples and o for  the negative examples.\n",
    "\n",
    "    Parameters\n",
    "    ----------\n",
    "\n",
    "    theta : array_like\n",
    "        Parameters for logistic regression. A vector of shape (n+1, ).\n",
    "\n",
    "    X : array_like\n",
    "        The input dataset. X is assumed to be  a either:\n",
    "            1) Mx3 matrix, where the first column is an all ones column for the intercept.\n",
    "            2) MxN, N>3 matrix, where the first column is all ones.\n",
    "\n",
    "    y : array_like\n",
    "        Vector of data labels of shape (m, 1).\n",
    "    \"\"\"\n",
    "    u = np.linspace(-1, 1.5, 50)\n",
    "    v = np.linspace(-1, 1.5, 50)\n",
    "    z = np.zeros((len(u), len(v)))\n",
    "    \n",
    "    def mapFeaturePlot(X1, X2):\n",
    "        degree = 6\n",
    "        out = np.ones(1)\n",
    "        for i in range(1, degree+1):\n",
    "            for j in range(0, i+1):\n",
    "                out = np.hstack((out, np.multiply(np.power(X1, i-j), np.power(X2, j))))\n",
    "        return out\n",
    "    \n",
    "    for i in range(len(u)):\n",
    "        for j in range(len(v)):\n",
    "            z[i,j] = np.dot(mapFeaturePlot(u[i], v[j]), theta)\n",
    "    \n",
    "    pos = y.flatten() == 1\n",
    "    neg = y.flatten() == 0\n",
    "    X = data[:, 0:2]\n",
    "    \n",
    "    # Plot Examples\n",
    "    pyplot.plot(X[pos, 0], X[pos, 1], 'k*', lw=2, ms=10)\n",
    "    pyplot.plot(X[neg, 0], X[neg, 1], 'ko', mfc='y', ms=8, mec='k', mew=1)\n",
    "       \n",
    "    pyplot.contour(u,v,z,0)\n",
    "    pyplot.title('Figure 4: Training data with decision boundary (λ = 1)\\n', fontsize = 14)\n",
    "    pyplot.xlabel('Microchip Test1')\n",
    "    pyplot.ylabel('Microchip Test2')\n",
    "    pyplot.legend(['y = 1', 'y = 0'], loc='upper right')\n",
    "\n",
    "plotDecisionBoundary(theta, X, y)"
   ]
  },
  {
   "cell_type": "code",
   "execution_count": 32,
   "metadata": {},
   "outputs": [
    {
     "name": "stdout",
     "output_type": "stream",
     "text": [
      "Train Accuracy: 83.1 %\n",
      "Expected accuracy (with lambda = 1): 83.1 % (approx)\n",
      "\n"
     ]
    }
   ],
   "source": [
    "# Compute accuracy on our training set\n",
    "p = predict(theta, X)\n",
    "\n",
    "print('Train Accuracy: %.1f %%' % (np.mean(p == y.flatten()) * 100))\n",
    "print('Expected accuracy (with lambda = 1): 83.1 % (approx)\\n')"
   ]
  },
  {
   "cell_type": "markdown",
   "metadata": {},
   "source": [
    "*You do not need to submit any solutions for these optional (ungraded) exercises.*"
   ]
  }
 ],
 "metadata": {
  "kernelspec": {
   "display_name": "Python 3",
   "language": "python",
   "name": "python3"
  },
  "language_info": {
   "codemirror_mode": {
    "name": "ipython",
    "version": 3
   },
   "file_extension": ".py",
   "mimetype": "text/x-python",
   "name": "python",
   "nbconvert_exporter": "python",
   "pygments_lexer": "ipython3",
   "version": "3.7.3"
  }
 },
 "nbformat": 4,
 "nbformat_minor": 4
}
